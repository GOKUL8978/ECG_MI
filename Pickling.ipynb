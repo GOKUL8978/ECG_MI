{
 "cells": [
  {
   "cell_type": "code",
   "execution_count": 1,
   "metadata": {
    "scrolled": true
   },
   "outputs": [],
   "source": [
    "import pickle as pkl\n",
    "import numpy as np\n",
    "import wfdb\n",
    "import os\n",
    "import pandas as pd\n",
    "from sklearn.model_selection import train_test_split\n",
    "from sklearn.preprocessing import MinMaxScaler\n",
    "from collections import defaultdict\n",
    "# pkl_file = open('signals_intervals.pkl', 'rb')\n",
    "# data = pkl.load(pkl_file)"
   ]
  },
  {
   "cell_type": "code",
   "execution_count": null,
   "metadata": {},
   "outputs": [],
   "source": [
    "len(data), len(data[0]), len(data[0][0])\n",
    "# flat_list = [item for sublist in data for item in sublist]\n",
    "# (flat_list[226]).shape\n",
    "data[10][16][0].shape"
   ]
  },
  {
   "cell_type": "code",
   "execution_count": 22,
   "metadata": {},
   "outputs": [
    {
     "data": {
      "text/plain": [
       "248"
      ]
     },
     "execution_count": 22,
     "metadata": {},
     "output_type": "execute_result"
    }
   ],
   "source": [
    "def calc_next_len_conv1d(current_len=112500, kernel_size=16, stride=1, padding=0, dilation=1):\n",
    "    return int(np.floor((current_len + 2*padding-dilation*(kernel_size-1)-1)/stride + 1))\n",
    "\n",
    "len1 = calc_next_len_conv1d(current_len=248, kernel_size=5, stride=1, padding=2)\n",
    "# len2 = calc_next_len_conv1d(current_len=len1, kernel_size=3, stride=1, padding=0)\n",
    "# len2 = len2*2\n",
    "# len3 = calc_next_len_conv1d(current_len=len2, kernel_size=11, stride=1)\n",
    "# len4 = calc_next_len_conv1d(current_len=len3, kernel_size=13, stride=1)\n",
    "# len4 = len4 * 2\n",
    "# len5 = calc_next_len_conv1d(current_len=len4, kernel_size=3, stride=1)\n",
    "# len6 = calc_next_len_conv1d(current_len=len5, kernel_size=5, stride=1)\n",
    "# len6 = len6 * 2\n",
    "# len7 = calc_next_len_conv1d(current_len=len6, kernel_size=3, stride=1)\n",
    "# len7 = len7 * 2\n",
    "# len8 = calc_next_len_conv1d(current_len=len7, kernel_size=3, stride=1)\n",
    "len1"
   ]
  },
  {
   "cell_type": "code",
   "execution_count": 50,
   "metadata": {},
   "outputs": [
    {
     "data": {
      "text/plain": [
       "112500"
      ]
     },
     "execution_count": 50,
     "metadata": {},
     "output_type": "execute_result"
    }
   ],
   "source": [
    "def calc_next_len_ConvTranspose1d(current_len=len3*4, kernel_size=16, stride=8, padding=0, dilation=1, out_padding=0):\n",
    "    return int(stride*(current_len-1) - 2*padding+dilation*(kernel_size-1)+out_padding+1)\n",
    "\n",
    "len_a = calc_next_len_ConvTranspose1d(current_len=1, kernel_size=64, stride=64, out_padding=1)\n",
    "len_b = calc_next_len_ConvTranspose1d(current_len=len_a, kernel_size=48, stride=48, out_padding=5)\n",
    "len_c = calc_next_len_ConvTranspose1d(current_len=len_b, kernel_size=6, stride=12, out_padding=6)\n",
    "len_d = calc_next_len_ConvTranspose1d(current_len=len_c, kernel_size=3, stride=3)\n",
    "len_d"
   ]
  },
  {
   "cell_type": "code",
   "execution_count": 9,
   "metadata": {},
   "outputs": [],
   "source": [
    "segment_len=2000\n",
    "num_segments_in_record = 100\n",
    "\n",
    "basic_arr_path = \"data/mit-bih-arrhythmia-database-1.0.0\" # where you downloaded mit-bih-arrhythmia db\n",
    "arr_db = wfdb.get_record_list('mitdb')\n",
    "signals = np.zeros([segment_len, num_segments_in_record, len(arr_db)])\n",
    "sig_list=[]\n",
    "for rec_id, record in enumerate(arr_db):\n",
    "    record_path = os.path.join(basic_arr_path, str(record))\n",
    "    record_signal = wfdb.rdsamp(record_path, sampto=num_segments_in_record*segment_len)[0][:, 0]\n",
    "    sig_list.append(record_signal.reshape([num_segments_in_record, segment_len]))\n",
    "signals = np.vstack(sig_list)"
   ]
  },
  {
   "cell_type": "code",
   "execution_count": 112,
   "metadata": {},
   "outputs": [
    {
     "data": {
      "text/plain": [
       "(4800, 2000)"
      ]
     },
     "execution_count": 112,
     "metadata": {},
     "output_type": "execute_result"
    }
   ],
   "source": [
    "signals = np.vstack(listt)\n",
    "# listt[1].shape\n",
    "signals.shape"
   ]
  },
  {
   "cell_type": "code",
   "execution_count": 40,
   "metadata": {},
   "outputs": [],
   "source": [
    "def create_index_df(desired_segment_len=3600, basic_arr_path = \"data/mit-bih-arrhythmia-database-1.0.0\"):\n",
    "    desired_segment_len=3600\n",
    "    basic_arr_path = \"data/mit-bih-arrhythmia-database-1.0.0\"\n",
    "    arr_db = wfdb.get_record_list('mitdb')\n",
    "    num_samples_in_record = 30*60*360\n",
    "    segment_dict = defaultdict(list)\n",
    "    segment_list = list()\n",
    "    for _, record_id in enumerate(arr_db):\n",
    "        record_path = os.path.join(basic_arr_path, str(record_id))\n",
    "\n",
    "        ann = wfdb.rdann(record_path, 'atr', sampto=num_samples_in_record, return_label_elements=['description'])\n",
    "        df = pd.DataFrame({'description':ann.description, 'sample':ann.sample})    \n",
    "        counter = 0\n",
    "        reset_flag = True\n",
    "\n",
    "        for i in range(1,df.shape[0]-1):\n",
    "            curr_label, curr_sample = df.loc[i,['description','sample']]\n",
    "            if reset_flag:\n",
    "                start_sample = curr_sample\n",
    "            next_label, next_sample = df.loc[i+1,['description','sample']]\n",
    "            if curr_label == next_label:\n",
    "                counter += next_sample-curr_sample\n",
    "                reset_flag = False\n",
    "                if counter > desired_segment_len:\n",
    "                    segment_dict['record_id'].extend([record_id])\n",
    "                    segment_dict['start_sample'].extend([start_sample])\n",
    "                    segment_dict['label'].extend([curr_label])\n",
    "                    counter = 0\n",
    "                    reset_flag = True\n",
    "                    signal = wfdb.rdsamp(record_path, sampfrom=start_sample, sampto=start_sample+3600)[0][:, 0]\n",
    "                    segment_list.append(Segment(signal, curr_label))\n",
    "            else:\n",
    "                counter = 0\n",
    "                reset_flag = True\n",
    "\n",
    "    #     return pd.DataFrame(segment_dict)\n",
    "    return segment_list"
   ]
  },
  {
   "cell_type": "code",
   "execution_count": 41,
   "metadata": {},
   "outputs": [],
   "source": [
    "class Segment:\n",
    "    def __init__(self, signal=1, label=1):\n",
    "        self.signal = signal\n",
    "        self.label = label\n",
    "\n",
    "segment_list = create_index_df()"
   ]
  },
  {
   "cell_type": "code",
   "execution_count": 45,
   "metadata": {},
   "outputs": [
    {
     "data": {
      "text/plain": [
       "'Normal beat'"
      ]
     },
     "execution_count": 45,
     "metadata": {},
     "output_type": "execute_result"
    }
   ],
   "source": [
    "segment_list[1000].label"
   ]
  }
 ],
 "metadata": {
  "kernelspec": {
   "display_name": "Python 3",
   "language": "python",
   "name": "python3"
  },
  "language_info": {
   "codemirror_mode": {
    "name": "ipython",
    "version": 3
   },
   "file_extension": ".py",
   "mimetype": "text/x-python",
   "name": "python",
   "nbconvert_exporter": "python",
   "pygments_lexer": "ipython3",
   "version": "3.6.8"
  }
 },
 "nbformat": 4,
 "nbformat_minor": 2
}
